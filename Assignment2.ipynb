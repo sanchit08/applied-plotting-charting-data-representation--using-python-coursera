{
 "cells": [
  {
   "cell_type": "markdown",
   "metadata": {},
   "source": [
    "# Assignment 2\n",
    "\n",
    "Before working on this assignment please read these instructions fully. In the submission area, you will notice that you can click the link to **Preview the Grading** for each step of the assignment. This is the criteria that will be used for peer grading. Please familiarize yourself with the criteria before beginning the assignment.\n",
    "\n",
    "An NOAA dataset has been stored in the file `data/C2A2_data/BinnedCsvs_d400/fb441e62df2d58994928907a91895ec62c2c42e6cd075c2700843b89.csv`. This is the dataset to use for this assignment. Note: The data for this assignment comes from a subset of The National Centers for Environmental Information (NCEI) [Daily Global Historical Climatology Network](https://www1.ncdc.noaa.gov/pub/data/ghcn/daily/readme.txt) (GHCN-Daily). The GHCN-Daily is comprised of daily climate records from thousands of land surface stations across the globe.\n",
    "\n",
    "Each row in the assignment datafile corresponds to a single observation.\n",
    "\n",
    "The following variables are provided to you:\n",
    "\n",
    "* **id** : station identification code\n",
    "* **date** : date in YYYY-MM-DD format (e.g. 2012-01-24 = January 24, 2012)\n",
    "* **element** : indicator of element type\n",
    "    * TMAX : Maximum temperature (tenths of degrees C)\n",
    "    * TMIN : Minimum temperature (tenths of degrees C)\n",
    "* **value** : data value for element (tenths of degrees C)\n",
    "\n",
    "For this assignment, you must:\n",
    "\n",
    "1. Read the documentation and familiarize yourself with the dataset, then write some python code which returns a line graph of the record high and record low temperatures by day of the year over the period 2005-2014. The area between the record high and record low temperatures for each day should be shaded.\n",
    "2. Overlay a scatter of the 2015 data for any points (highs and lows) for which the ten year record (2005-2014) record high or record low was broken in 2015.\n",
    "3. Watch out for leap days (i.e. February 29th), it is reasonable to remove these points from the dataset for the purpose of this visualization.\n",
    "4. Make the visual nice! Leverage principles from the first module in this course when developing your solution. Consider issues such as legends, labels, and chart junk.\n",
    "\n",
    "The data you have been given is near **Ann Arbor, Michigan, United States**, and the stations the data comes from are shown on the map below."
   ]
  },
  {
   "cell_type": "code",
   "execution_count": 1,
   "metadata": {
    "collapsed": false
   },
   "outputs": [],
   "source": [
    "import matplotlib.pyplot as plt\n",
    "import mplleaflet\n",
    "import pandas as pd\n",
    "\n",
    "def leaflet_plot_stations(binsize, hashid):\n",
    "\n",
    "    df = pd.read_csv('data/C2A2_data/BinSize_d{}.csv'.format(binsize))\n",
    "\n",
    "    station_locations_by_hash = df[df['hash'] == hashid]\n",
    "\n",
    "    lons = station_locations_by_hash['LONGITUDE'].tolist()\n",
    "    lats = station_locations_by_hash['LATITUDE'].tolist()\n",
    "\n",
    "    plt.figure(figsize=(8,8))\n",
    "\n",
    "    plt.scatter(lons, lats, c='r', alpha=0.7, s=200)\n",
    "\n",
    "    return mplleaflet.display()\n",
    "\n",
    "leaflet_plot_stations(400,'fb441e62df2d58994928907a91895ec62c2c42e6cd075c2700843b89')"
   ]
  },
  {
   "cell_type": "code",
   "execution_count": null,
   "metadata": {
    "collapsed": false
   },
   "outputs": [],
   "source": [
    "%matplotlib notebook\n",
    "import pandas as pd\n",
    "import numpy as np\n",
    "import matplotlib.pyplot as plt\n",
    "\n",
    "minimum = []\n",
    "maximum = []\n",
    "min2015 = []\n",
    "max2015 = []\n",
    "minaxis = []\n",
    "maxaxis = []\n",
    "mins = []\n",
    "maxs = []\n",
    "\n",
    "df1 = pd.read_csv('./data/C2A2_data/BinnedCsvs_d400/ed157460d30113a689e487b88dcbef1f5d64cbd8bb7825f5f485013d.csv')\n",
    "df1['Date'] = pd.to_datetime(df1['Date'])\n",
    "df1['Year'] = df1['Date'].dt.year\n",
    "df1['Month_Day'] = df1['Date'].dt.strftime('%m-%d')\n",
    "df = df1[df1['Month_Day'] != '02-29']\n",
    "df2015 = df[df['Date'].dt.year == 2015]\n",
    "df = df[df['Date'].dt.year != 2015]\n",
    "for group,frame in df.groupby(['Month_Day']):\n",
    "    minimum.append(min(frame['Data_Value']))\n",
    "    maximum.append(max(frame['Data_Value']))\n",
    "\n",
    "for group,frame in df2015.groupby(['Month_Day']):\n",
    "    min2015.append(min(frame['Data_Value']))\n",
    "    max2015.append(max(frame['Data_Value']))\n",
    "for i in range(len(minimum)):\n",
    "    if minimum[i]>min2015[i]:\n",
    "        mins.append(min2015[i])\n",
    "        minaxis.append(i)\n",
    "    if maximum[i]<max2015[i]:\n",
    "        maxs.append(max2015[i])\n",
    "        maxaxis.append(i)\n",
    "\n",
    "plt.figure()\n",
    "plt.scatter(minaxis,mins,s=10,c='black', label = 'Minimum record broken in 2015',zorder = 2)\n",
    "plt.scatter(maxaxis,maxs,s=10,c='blue', label = 'Maximum record broken in 2015',zorder = 4)\n",
    "plt.plot(minimum, c='green', label = 'minimum temperature (2005-2014)',zorder = 1)\n",
    "plt.plot(maximum, c='red', label = 'maximum temperature (2005-2014)',zorder = 3)\n",
    "plt.gca().fill_between(range(len(maximum)), minimum, maximum, facecolor = 'blue', alpha = 0.3)\n",
    "plt.ylim(-300,500)\n",
    "plt.legend(loc= 8, fontsize = 8, frameon = False)\n",
    "plt.xticks(np.linspace(15,15+(30*11), 12), ('Jan', 'Feb','Mar','Apr','May','Jun','Jul','Aug','Sep','Oct','Nov','Dec'))\n",
    "plt.xlabel('Months')\n",
    "plt.ylabel('Temperature(tenths of degree Celsius)')\n",
    "plt.title('Extreme temperature of \"College Station, Texas\" by months')\n",
    "plt.show()"
   ]
  },
  {
   "cell_type": "code",
   "execution_count": null,
   "metadata": {
    "collapsed": true
   },
   "outputs": [],
   "source": []
  }
 ],
 "metadata": {
  "kernelspec": {
   "display_name": "Python 3",
   "language": "python",
   "name": "python3"
  },
  "language_info": {
   "codemirror_mode": {
    "name": "ipython",
    "version": 3
   },
   "file_extension": ".py",
   "mimetype": "text/x-python",
   "name": "python",
   "nbconvert_exporter": "python",
   "pygments_lexer": "ipython3",
   "version": "3.6.2"
  }
 },
 "nbformat": 4,
 "nbformat_minor": 1
}
